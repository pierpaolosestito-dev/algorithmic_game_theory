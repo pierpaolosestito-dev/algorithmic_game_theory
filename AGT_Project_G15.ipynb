{
  "nbformat": 4,
  "nbformat_minor": 0,
  "metadata": {
    "colab": {
      "provenance": []
    },
    "kernelspec": {
      "name": "python3",
      "display_name": "Python 3"
    },
    "language_info": {
      "name": "python"
    }
  },
  "cells": [
    {
      "cell_type": "code",
      "source": [
        "import pydotplus\n",
        "from IPython.display import Image, display\n",
        "# Creazione del grafo\n",
        "graph = pydotplus.Dot(graph_type='graph')\n",
        "# Aggiunta dei nodi\n",
        "nodes = ['s', 't'] + [str(i) for i in range(1, 5)]\n",
        "for node in nodes:\n",
        "    graph.add_node(pydotplus.Node(node))\n",
        "\n",
        "# Aggiunta degli archi\n",
        "edges = [('s', 1), ('s', 2), (1, 3), (1, 4), (2, 4), (3, 't'), (4, 't')]\n",
        "for edge in edges:\n",
        "    graph.add_edge(pydotplus.Edge(str(edge[0]), str(edge[1])))\n",
        "\n",
        "# Display del grafo direttamente nell'output\n",
        "display(Image(graph.create_png()))"
      ],
      "metadata": {
        "colab": {
          "base_uri": "https://localhost:8080/",
          "height": 364
        },
        "id": "K_Aha1gaI4Xe",
        "outputId": "30eb8029-2bbf-44bc-dcf8-0659f709139f"
      },
      "execution_count": null,
      "outputs": [
        {
          "output_type": "display_data",
          "data": {
            "image/png": "[encoded data removed]",
            "text/plain": [
              "<IPython.core.display.Image object>"
            ]
          },
          "metadata": {}
        }
      ]
    },
    {
      "cell_type": "markdown",
      "source": [
        "### Problem 1\n",
        "\n",
        "# Report: Problema 1 - Calcolo del Valore di Shapley\n",
        "\n",
        "## Introduzione al Problema:\n",
        "Il problema si situa in un contesto di grafo non diretto $G = (N, E)$, dove $N = \\{1,2,\\dots,n\\} \\cup \\{s, t\\}$ rappresenta l'insieme dei nodi, con $s$ e $t$ come nodi sorgente e destinazione distinti. L'obiettivo è definire un percorso che connetta $s$ e $t$, attraverso i nodi in $\\{1,2,\\dots,n\\}$, con ciascuno di essi controllato da un agente. In seguito, tali nodi sono trasparentemente considerati come gli agenti corrispondenti.\n",
        "\n",
        "## Metodologia di Risoluzione:\n",
        "1. **Creazione del Grafo:**\n",
        "   - Utilizziamo la libreria `pydotplus` per creare il grafo non diretto.\n",
        "2. **Funzione Caratteristica:**\n",
        "   - Definiamo una funzione `simple_characteristic_function` che valuta se un insieme di agenti può formare un percorso tra $s$ e $t$ nel grafo.\n",
        "3. **Calcolo del Valore di Shapley:**\n",
        "   - Implementiamo la formula del valore di Shapley per calcolare equamente la contribuzione di ciascun agente nella formazione del percorso.\n",
        "\n",
        "## Risultati e Analisi:\n",
        "- **Funzione Caratteristica:**\n",
        "  - La funzione caratteristica assegna un valore di $100$ se un insieme di agenti può formare un percorso tra $s$ e $t$, altrimenti $0$.\n",
        "- **Valore di Shapley:**\n",
        "  - I valori di Shapley sono calcolati per ciascun agente e rappresentano la sua contribuzione equa nella formazione del percorso.\n",
        "\n",
        "## Conclusioni:\n",
        "Il calcolo dei valori di Shapley fornisce un modo equo per distribuire la ricompensa tra gli agenti, incoraggiando la cooperazione nel formare un percorso tra $s$ e $t$ nel grafo.\n",
        "\n"
      ],
      "metadata": {
        "id": "HZxmETcGA2M6"
      }
    },
    {
      "cell_type": "code",
      "source": [
        "from math import factorial\n",
        "from itertools import combinations\n",
        "\n",
        "def powerset(list: list):\n",
        "    subsets = [frozenset(j) for i in range(len(list) + 1) for j in combinations(list, i)]\n",
        "    return subsets\n",
        "\n",
        "def __has_path_through_nodes(graph: pydotplus.Dot, start_node: str, end_node: str):\n",
        "    visited = set()\n",
        "    queue = [start_node]\n",
        "\n",
        "    while queue:\n",
        "        current_node = queue.pop(0)\n",
        "        if current_node == end_node:\n",
        "            return True\n",
        "        if current_node not in visited:\n",
        "            visited.add(current_node)\n",
        "            for edge in graph.get_edge_list():\n",
        "                if edge.get_source() == current_node:\n",
        "                    queue.append(edge.get_destination())\n",
        "    return False\n",
        "\n",
        "def has_path_through_nodes(graph: pydotplus.Dot, nodes_to_delete: frozenset):\n",
        "\n",
        "    nodes = ['s', 't'] + [str(i) for i in range(1, 5)]\n",
        "    new_nodes = []\n",
        "    for node in nodes:\n",
        "      if node in list(nodes_to_delete):\n",
        "        new_nodes.append(node)\n",
        "\n",
        "    edges = [('s', 1), ('s', 2), (1, 3), (1, 4), (2, 4), (3, 't'), (4, 't')]\n",
        "    new_edges = []\n",
        "    for edge in edges:\n",
        "      if edge[0] in list(nodes_to_delete) or edge[1] in list(nodes_to_delete):\n",
        "        new_edges.append(edge)\n",
        "\n",
        "      #graph.add_edge(pydotplus.Edge(str(edge[0]), str(edge[1])))\n",
        "    pruned_graph = pydotplus.Dot(graph_type='graph')\n",
        "    for node in new_nodes:\n",
        "      pruned_graph.add_node(pydotplus.Node(node))\n",
        "\n",
        "# Aggiunta degli archi\n",
        "    for edge in new_edges:\n",
        "      pruned_graph.add_edge(pydotplus.Edge(str(edge[0]), str(edge[1])))\n",
        "\n",
        "    return __has_path_through_nodes(pruned_graph,'s','t')\n",
        "\n",
        "\n",
        "def simple_characteristic_function(graph: pydotplus.Dot, coalition: frozenset):\n",
        "    return 100 if has_path_through_nodes(graph, coalition) else 0"
      ],
      "metadata": {
        "id": "rPZC2s-aJJbK"
      },
      "execution_count": null,
      "outputs": []
    },
    {
      "cell_type": "code",
      "source": [
        "\n",
        "graph_nodes = [1,2,3,4]\n",
        "coalitions = powerset(graph_nodes)\n",
        "characteristic_function = {}\n",
        "for coalition in coalitions:\n",
        "    characteristic_function[coalition] = simple_characteristic_function(graph, coalition)\n",
        "print(\"Characteristic function\")\n",
        "for key, value in characteristic_function.items():\n",
        "    print(f\"{list(key)}: {value}\")"
      ],
      "metadata": {
        "colab": {
          "base_uri": "https://localhost:8080/"
        },
        "id": "WDdse--hJnGB",
        "outputId": "85d92417-7abd-4d67-cf7f-abca7570b4ec"
      },
      "execution_count": null,
      "outputs": [
        {
          "output_type": "stream",
          "name": "stdout",
          "text": [
            "Characteristic function\n",
            "[]: 0\n",
            "[1]: 0\n",
            "[2]: 0\n",
            "[3]: 0\n",
            "[4]: 0\n",
            "[1, 2]: 0\n",
            "[1, 3]: 100\n",
            "[1, 4]: 100\n",
            "[2, 3]: 0\n",
            "[2, 4]: 100\n",
            "[3, 4]: 0\n",
            "[1, 2, 3]: 100\n",
            "[1, 2, 4]: 100\n",
            "[1, 3, 4]: 100\n",
            "[2, 3, 4]: 100\n",
            "[1, 2, 3, 4]: 100\n"
          ]
        }
      ]
    },
    {
      "cell_type": "code",
      "source": [
        "def one_element_supersets(set: frozenset, list: frozenset):\n",
        "    list_without_set = list.difference(set)\n",
        "    supersets = [set.union([j]) for j in list_without_set]\n",
        "    return supersets\n",
        "\n",
        "def compute_characteristic_function(graph, graph_nodes: frozenset, coalition, check_path, characteristic_function):\n",
        "    if coalition in characteristic_function:\n",
        "        return\n",
        "    characteristic_function[coalition] = simple_characteristic_function(graph, coalition) if check_path else 100\n",
        "    check_path = False if characteristic_function[coalition] == 100 else True\n",
        "    for c in one_element_supersets(coalition, graph_nodes):\n",
        "        compute_characteristic_function(graph, graph_nodes, c, check_path, characteristic_function)\n",
        "\n",
        "\n",
        "characteristic_function = {}\n",
        "\n",
        "compute_characteristic_function(graph, frozenset(graph_nodes), frozenset([]), True, characteristic_function)\n",
        "\n",
        "print(\"Characteristic function\")\n",
        "for key, value in characteristic_function.items():\n",
        "    print(f\"{list(key)}: {value}\")"
      ],
      "metadata": {
        "colab": {
          "base_uri": "https://localhost:8080/"
        },
        "id": "dt5LPdhxW9Xu",
        "outputId": "ddd24646-04a1-47b8-fa6f-ea530fe56053"
      },
      "execution_count": null,
      "outputs": [
        {
          "output_type": "stream",
          "name": "stdout",
          "text": [
            "Characteristic function\n",
            "[]: 0\n",
            "[1]: 0\n",
            "[1, 2]: 0\n",
            "[1, 2, 3]: 100\n",
            "[1, 2, 3, 4]: 100\n",
            "[1, 2, 4]: 100\n",
            "[1, 3]: 100\n",
            "[1, 3, 4]: 100\n",
            "[1, 4]: 100\n",
            "[2]: 0\n",
            "[2, 3]: 0\n",
            "[2, 3, 4]: 100\n",
            "[2, 4]: 100\n",
            "[3]: 0\n",
            "[3, 4]: 0\n",
            "[4]: 0\n"
          ]
        }
      ]
    },
    {
      "cell_type": "code",
      "source": [
        "def shapley_value(player, characteristic_function):\n",
        "    player_list = max(characteristic_function)\n",
        "    player = set([player])\n",
        "    N = len(player_list)\n",
        "    coalitions = powerset(player_list)\n",
        "    shapley_val = 0\n",
        "    for coalition in coalitions:\n",
        "        if len(coalition) != 0:\n",
        "            S = len(coalition)\n",
        "            marginal_contribution = characteristic_function[coalition] - (characteristic_function[coalition - player] if len(coalition - player) > 0 else 0)\n",
        "            shapley_val += ((factorial(N - S) * factorial(S - 1)) / factorial(N)) * marginal_contribution\n",
        "    return shapley_val\n",
        "\n",
        "def shapley(characteristic_function):\n",
        "    return {player: shapley_value(player, characteristic_function) for player in max(characteristic_function)}\n",
        "\n",
        "print(\"Shapley values\")\n",
        "shapley_values = shapley(characteristic_function).items()\n",
        "for key, value in shapley_values:\n",
        "    print(f\"Agent {key}: {value:.3f}\")"
      ],
      "metadata": {
        "colab": {
          "base_uri": "https://localhost:8080/"
        },
        "id": "B1k2LEzlXD6u",
        "outputId": "ef7e3e7a-1452-4991-fd31-51d613cfa465"
      },
      "execution_count": null,
      "outputs": [
        {
          "output_type": "stream",
          "name": "stdout",
          "text": [
            "Shapley values\n",
            "Agent 1: 33.333\n",
            "Agent 2: 16.667\n",
            "Agent 3: 16.667\n",
            "Agent 4: 33.333\n"
          ]
        }
      ]
    },
    {
      "cell_type": "markdown",
      "source": [
        "### Problem 2\n",
        "\n",
        "# Report: Problema 2 - Schema di Pagamento per una Cooperazione Limitata\n",
        "\n",
        "## Introduzione al Problema:\n",
        "Il Problema 2 si concentra sulla progettazione di uno schema di pagamento che incentiverebbe la cooperazione tra agenti nell'affrontare la sfida di collegare i nodi sorgente e destinazione in un grafo non diretto. Tuttavia, gli agenti sono limitati nel loro contributo e possono partecipare solo se al massimo due dei loro vicini partecipano.\n",
        "\n",
        "## Metodologia di Risoluzione:\n",
        "1. **Ricerca dei Vicini:**\n",
        "   - Utilizziamo la funzione `find_neighbors` per identificare i vicini di ciascun agente nel grafo.\n",
        "2. **Verifica dell'Equilibrio di Nash:**\n",
        "   - La funzione `is_nash_equilibrium` determina se l'azione di ciascun agente corrisponde a un equilibrio di Nash nel contesto delle restrizioni specificate.\n",
        "3. **Calcolo dell'Equilibrio di Nash:**\n",
        "   - Utilizzando la ricorsione, la funzione `find_nash_equilibrium` cerca di trovare un equilibrio di Nash per il gioco.\n",
        "\n",
        "## Risultati e Analisi:\n",
        "- **Equilibrio di Nash:**\n",
        "  - Viene determinato se esiste un equilibrio di Nash nel gioco specificato.\n",
        "- **Schema di Pagamento:**\n",
        "  - Se esiste un equilibrio di Nash, vengono presentati gli agenti che contribuiscono e quelli che non contribuiscono, indicando così uno schema di pagamento potenziale.\n",
        "\n",
        "## Conclusioni:\n",
        "Lo schema di pagamento progettato fornisce un incentivo per una cooperazione limitata tra gli agenti, garantendo al contempo un equilibrio di Nash nel gioco. Ciò promuove una distribuzione equa della ricompensa e una soluzione ottimale del problema nel contesto delle restrizioni specificate.\n"
      ],
      "metadata": {
        "id": "SKYwcD32bXbL"
      }
    },
    {
      "cell_type": "code",
      "source": [
        "def find_neighbors(graph,target_node_name):\n",
        "  target_node = None\n",
        "  for node in graph.get_nodes():\n",
        "      if str(node.get_name()) == target_node_name:\n",
        "          target_node = node\n",
        "          break\n",
        "\n",
        "  # Ottieni tutti i vicini del nodo di interesse\n",
        "  if target_node:\n",
        "\n",
        "      neighbors = []\n",
        "\n",
        "      for edge in graph.get_edges():\n",
        "\n",
        "          if edge.get_source() == target_node.get_name():\n",
        "            neighbors.append(edge.get_destination())\n",
        "          if edge.get_destination() == target_node.get_name():\n",
        "            neighbors.append(edge.get_source())\n",
        "      return neighbors"
      ],
      "metadata": {
        "id": "CtCw19TQbW2U"
      },
      "execution_count": null,
      "outputs": []
    },
    {
      "cell_type": "code",
      "source": [
        "print(find_neighbors(graph,\"1\"))"
      ],
      "metadata": {
        "colab": {
          "base_uri": "https://localhost:8080/"
        },
        "id": "Ob5qq8CRh4Hu",
        "outputId": "7beaf988-3496-4d71-c777-444d24e40474"
      },
      "execution_count": null,
      "outputs": [
        {
          "output_type": "stream",
          "name": "stdout",
          "text": [
            "['s', '3', '4']\n"
          ]
        }
      ]
    },
    {
      "cell_type": "code",
      "source": [
        "def is_nash_equilibrium(graph, agents, action_profile: dict):\n",
        "    for agent in agents:\n",
        "        sum_neighbours = 0\n",
        "        for neighbour in find_neighbors(graph,str(agent)):\n",
        "            if neighbour.isdigit():\n",
        "              sum_neighbours += action_profile[int(neighbour)]\n",
        "            else:\n",
        "              sum_neighbours += action_profile[neighbour]\n",
        "        if (sum_neighbours > 2 and action_profile[agent] == 1) or (sum_neighbours <= 2 and action_profile[agent] == 0):\n",
        "            return False\n",
        "    return True\n",
        "\n",
        "def find_nash_equilibrium(graph, agents: list,action_profile: dict, i=0):\n",
        "    for choice in range(2):\n",
        "        action_profile[agents[i]] = choice\n",
        "        if i == len(agents) - 1:\n",
        "            if is_nash_equilibrium(graph, agents, action_profile):\n",
        "                return action_profile\n",
        "        elif find_nash_equilibrium(graph, agents, action_profile, i + 1) is not None:\n",
        "            return action_profile\n",
        "    return None\n",
        "\n",
        "equilibrium = find_nash_equilibrium(graph, graph_nodes, {'s': 1, 't': 1})\n",
        "print(equilibrium)\n",
        "\n",
        "if equilibrium is not None:\n",
        "    print(\"Nash equilibrium:\")\n",
        "    del equilibrium['s']\n",
        "    del equilibrium['t']\n",
        "    for key, value in equilibrium.items():\n",
        "        print(f\"Agent {key} {'contributes' if value else 'does not contribute'}\")\n",
        "else:\n",
        "    print(\"Nash equilibrium not found\")"
      ],
      "metadata": {
        "colab": {
          "base_uri": "https://localhost:8080/"
        },
        "id": "mUjvwtbpbmJ9",
        "outputId": "97ba68e1-f7f5-47f9-dcad-c2c8a1af68dc"
      },
      "execution_count": null,
      "outputs": [
        {
          "output_type": "stream",
          "name": "stdout",
          "text": [
            "{'s': 1, 't': 1, 1: 0, 2: 1, 3: 1, 4: 1}\n",
            "Nash equilibrium:\n",
            "Agent 1 does not contribute\n",
            "Agent 2 contributes\n",
            "Agent 3 contributes\n",
            "Agent 4 contributes\n"
          ]
        }
      ]
    },
    {
      "cell_type": "code",
      "source": [
        "def check_equilibrium(graph, players, action_profile: dict):\n",
        "    for player in players:\n",
        "        sum_neighbours = 0\n",
        "        for neighbor in find_neighbors(graph, str(player)):\n",
        "            if neighbor.isdigit():\n",
        "                sum_neighbours += action_profile[int(neighbor)]\n",
        "            else:\n",
        "                sum_neighbours += action_profile[neighbor]\n",
        "        if (sum_neighbours > 2 and action_profile[player] == 1) or (sum_neighbours <= 2 and action_profile[player] == 0):\n",
        "            return False\n",
        "    return True\n",
        "\n",
        "def find_equilibrium(graph, players: list, action_profile: dict, i=0):\n",
        "    for choice in range(2):\n",
        "        action_profile[players[i]] = choice\n",
        "        if i == len(players) - 1:\n",
        "            if check_equilibrium(graph, players, action_profile):\n",
        "                return action_profile\n",
        "        elif find_equilibrium(graph, players, action_profile, i + 1) is not None:\n",
        "            return action_profile\n",
        "    return None\n",
        "\n",
        "equilibrium = find_equilibrium(graph, graph_nodes, {'s': 1, 't': 1})\n",
        "print(equilibrium)\n",
        "\n",
        "if equilibrium is not None:\n",
        "    print(\"Equilibrium found:\")\n",
        "    del equilibrium['s']\n",
        "    del equilibrium['t']\n",
        "    for key, value in equilibrium.items():\n",
        "        print(f\"Player {key} {'contributes' if value else 'does not contribute'}\")\n",
        "else:\n",
        "    print(\"Equilibrium not found\")\n"
      ],
      "metadata": {
        "colab": {
          "base_uri": "https://localhost:8080/"
        },
        "id": "X_dLZKweyA2V",
        "outputId": "bfafcacf-2683-4771-819b-1a94a7d82b2f"
      },
      "execution_count": null,
      "outputs": [
        {
          "output_type": "stream",
          "name": "stdout",
          "text": [
            "{'s': 1, 't': 1, 1: 0, 2: 1, 3: 1, 4: 1}\n",
            "Equilibrium found:\n",
            "Player 1 does not contribute\n",
            "Player 2 contributes\n",
            "Player 3 contributes\n",
            "Player 4 contributes\n"
          ]
        }
      ]
    },
    {
      "cell_type": "markdown",
      "source": [
        "### Problem 3\n",
        "#### Problem definition\n",
        "Assume that G has treewidth bounded by some constant and provide again answer to point 2, by\n",
        "exploiting this additional information.\n",
        "\n",
        "#### Problem solution\n",
        "With the newfound understanding that the graph possesses bounded treewidth, we can leverage Courcelle's theorem, which posits that any problem formulated within Monadic Second Order Logic (MSO) on graphs of bounded treewidth can be resolved in linear time.\n",
        "\n",
        "By capitalizing on this theorem, we can articulate the $[\\sigma_{<=2}, \\rho_{>=3}]$-set problem in Monadic Second Order Logic and consequently establish the existence of an algorithm capable of resolving the problem within linear time complexity. This is achieved through the construction of partial solutions on the tree decomposition, provided that the tree decomposition of the original graph exhibits bounded treewidth.\n",
        "\n",
        "The problem's definition in Monadic Second Order Logic is derived from an adaptation of the \"3-edge-coloring\" problem definition.\n",
        "\n",
        "∃C1, C2, C3 (∀x∀y (E(x, y) → (C1(x, y) ∨ C2(x, y) ∨ C3(x, y))) ∧ ∀x\n",
        "∀y∀z (E(x, y) ∧ E(x, z) ∧ y ̸ = z → (¬ (C1(x, y) ∧ C1(x, z))\n",
        "∧¬ (C2(x, y) ∧ C2(x, z)) ∧ ¬ (C3(x, y) ∧ C3(x, z))\n",
        "\n",
        "\n",
        "Furthermore, prior research [2,3] has demonstrated that the $[\\sigma,\\rho]$-set problem, where both $\\sigma$ and $\\rho$ are either finite or cofinite, can be efficiently solved on graphs with bounded treewidth using fixed-parameter tractable algorithms. This result directly applies to our scenario, as $\\sigma$ is finite and $\\rho$ is cofinite.\n",
        "\n",
        "In summary, this approach affords a rapid solution to a complex problem on such graphs, harnessing their structural characteristics and employing a sophisticated logic framework."
      ],
      "metadata": {
        "id": "JgMt5G8x6_V-"
      }
    },
    {
      "cell_type": "markdown",
      "source": [
        "### Problem 4\n",
        "\n",
        "# Report: Problema 3 - Schema di Pagamento VCG per una Dichiarazione Onesta di Utilità\n",
        "\n",
        "## Introduzione al Problema:\n",
        "Il Problema 3 riguarda la progettazione di uno schema di pagamento che incentivi una dichiarazione onesta dell'utilità degli agenti coinvolti nella formazione di un percorso in un grafo non diretto. Gli agenti possono dichiarare l'utilità desiderata, ma potrebbero avere un incentivo a mentire. L'obiettivo è massimizzare l'utilità complessiva del percorso, tenendo conto delle dichiarazioni e delle azioni degli agenti.\n",
        "\n",
        "## Metodologia di Risoluzione:\n",
        "1. **Ricerca di Tutti i Percorsi Possibili:**\n",
        "   - Utilizziamo la funzione `find_all_simple_paths` per identificare tutti i percorsi possibili tra il nodo sorgente e il nodo destinazione nel grafo.\n",
        "2. **Calcolo dell'Utilità Ottimale:**\n",
        "   - Determiniamo l'utilità ottimale per ciascun percorso possibile, tenendo conto delle dichiarazioni di utilità degli agenti.\n",
        "3. **Determinazione dello Schema di Pagamento VCG:**\n",
        "   - Progettiamo uno schema di pagamento che segua i principi della Vickrey-Clarke-Groves (VCG), compensando gli agenti in base al loro contributo marginale all'utilità complessiva, indipendentemente dalle loro dichiarazioni.\n",
        "\n",
        "## Risultati e Analisi:\n",
        "- **Utilità Ottimale:**\n",
        "  - Identifichiamo il percorso che massimizza l'utilità complessiva, considerando le dichiarazioni di utilità degli agenti.\n",
        "- **Schema di Pagamento VCG:**\n",
        "  - Proponiamo uno schema di pagamento che segue i principi della VCG, incentivando una dichiarazione onesta dell'utilità da parte degli agenti e garantendo una soluzione ottimale del problema.\n",
        "\n",
        "## Conclusioni:\n",
        "Lo schema di pagamento VCG progettato fornisce un incentivo per una dichiarazione onesta dell'utilità da parte degli agenti, promuovendo così una migliore gestione delle risorse e una soluzione ottimale del problema nel contesto del grafo non diretto.\n",
        "\n"
      ],
      "metadata": {
        "id": "veOY2TDKmIKL"
      }
    },
    {
      "cell_type": "code",
      "source": [
        "import pydotplus\n",
        "\n",
        "def find_all_simple_paths(graph, start, end, path=[]):\n",
        "    path = path + [start]\n",
        "    if start == end:\n",
        "        return [path]\n",
        "\n",
        "    # Check if the start node is in the graph\n",
        "    if start in graph.obj_dict['nodes']:\n",
        "        paths = []\n",
        "        for edge in graph.get_edge_list():\n",
        "            src, dest = edge.get_source(), edge.get_destination()\n",
        "            if src == start and dest not in path:\n",
        "                new_paths = find_all_simple_paths(graph, dest, end, path)\n",
        "                for new_path in new_paths:\n",
        "                    paths.append(new_path)\n",
        "        return paths\n",
        "    else:\n",
        "        return []\n",
        "\n",
        "paths = find_all_simple_paths(graph, 's', 't')\n",
        "print(paths)\n",
        "\n",
        "additional_path = [str(g) for g in graph_nodes]\n",
        "additional_path.extend(['s', 't'])\n",
        "paths.append(additional_path)\n",
        "print(paths)"
      ],
      "metadata": {
        "colab": {
          "base_uri": "https://localhost:8080/"
        },
        "id": "TZErnr6wm9Zm",
        "outputId": "2f878a94-0730-444d-a6a5-b751c9115b7a"
      },
      "execution_count": null,
      "outputs": [
        {
          "output_type": "stream",
          "name": "stdout",
          "text": [
            "[['s', '1', '3', 't'], ['s', '1', '4', 't'], ['s', '2', '4', 't']]\n",
            "[['s', '1', '3', 't'], ['s', '1', '4', 't'], ['s', '2', '4', 't'], ['1', '2', '3', '4', 's', 't']]\n"
          ]
        }
      ]
    },
    {
      "cell_type": "code",
      "source": [
        "def get_hidden_type(agent):\n",
        "    return agent * 10\n",
        "\n",
        "def get_declared_type(agent):\n",
        "    return get_hidden_type(agent)\n",
        "\n",
        "def get_optimal_outcome_without_agent(paths, agent):\n",
        "    optimal_outcome = 0\n",
        "    for path in paths:\n",
        "        if str(agent) not in path:\n",
        "            outcome = 0\n",
        "            for node in path:\n",
        "                if node != \"s\" and node != \"t\":\n",
        "                    outcome += get_declared_type(int(node))\n",
        "            optimal_outcome = outcome if outcome > optimal_outcome else optimal_outcome\n",
        "    return optimal_outcome\n",
        "\n",
        "def get_optimal_outcome(paths):\n",
        "    optimal_outcome = 0\n",
        "    optimal_outcome_path = []\n",
        "    for path in paths:\n",
        "        outcome = 0\n",
        "        for agent in path:\n",
        "            if agent != \"s\" and agent != \"t\":\n",
        "                outcome += get_declared_type(int(agent))\n",
        "        if outcome > optimal_outcome:\n",
        "            optimal_outcome = outcome\n",
        "            optimal_outcome_path = path\n",
        "    return optimal_outcome, optimal_outcome_path\n",
        "\n",
        "def get_payment(optimal_outcome, optimal_outcome_path, agent):\n",
        "    optimal_outcome_without_agent = get_optimal_outcome_without_agent(paths, agent)\n",
        "    optimal_outcome_minus_agent = optimal_outcome - get_declared_type(agent) if str(agent) in optimal_outcome_path else optimal_outcome\n",
        "    return optimal_outcome_without_agent - optimal_outcome_minus_agent\n",
        "\n",
        "#paths = set(map(frozenset, nx.all_simple_paths(graph, \"s\", \"t\")))\n",
        "optimal_outcome, optimal_outcome_path = get_optimal_outcome(paths)\n",
        "print(\"Payments:\")\n",
        "for agent in graph_nodes:\n",
        "    print(f\"Payment of agent {agent}: {get_payment(optimal_outcome, optimal_outcome_path, agent)}\")"
      ],
      "metadata": {
        "colab": {
          "base_uri": "https://localhost:8080/"
        },
        "id": "yXPCfB4zl7E3",
        "outputId": "41f1835b-ee12-4a76-d516-0896b148494c"
      },
      "execution_count": null,
      "outputs": [
        {
          "output_type": "stream",
          "name": "stdout",
          "text": [
            "Payments:\n",
            "Payment of agent 1: -30\n",
            "Payment of agent 2: -30\n",
            "Payment of agent 3: -10\n",
            "Payment of agent 4: -20\n"
          ]
        }
      ]
    },
    {
      "cell_type": "code",
      "source": [
        "\n",
        "def get_declared_type(node):\n",
        "    return node * 10\n",
        "\n",
        "def find_optimal_result(paths):\n",
        "    optimal_result = 0\n",
        "    optimal_result_path = []\n",
        "    for path in paths:\n",
        "        result = sum(get_declared_type(int(node)) for node in path if node not in [\"s\", \"t\"])\n",
        "        if result > optimal_result:\n",
        "            optimal_result = result\n",
        "            optimal_result_path = path\n",
        "    return optimal_result, optimal_result_path\n",
        "\n",
        "def find_optimal_result_without_node(paths, excluded_node):\n",
        "    optimal_result = 0\n",
        "    for path in paths:\n",
        "        if str(excluded_node) not in path:\n",
        "            result = sum(get_declared_type(int(node)) for node in path if node not in [\"s\", \"t\"])\n",
        "            optimal_result = max(result, optimal_result)\n",
        "    return optimal_result\n",
        "\n",
        "def calculate_payment(optimal_result, optimal_result_path, node):\n",
        "    result_minus_node = optimal_result - get_declared_type(node) if str(node) in optimal_result_path else optimal_result\n",
        "    result_without_node = find_optimal_result_without_node(paths, node)\n",
        "    return result_without_node - result_minus_node\n",
        "\n",
        "optimal_result, optimal_result_path = find_optimal_result(paths)\n",
        "print(\"Payments:\")\n",
        "for node in graph_nodes:\n",
        "    print(f\"Payment of node {node}: {calculate_payment(optimal_result, optimal_result_path, node)}\")\n"
      ],
      "metadata": {
        "colab": {
          "base_uri": "https://localhost:8080/"
        },
        "id": "vaxNGIpuv9Fd",
        "outputId": "393e5ef8-8d1b-405f-8d88-82f4fdf0b7aa"
      },
      "execution_count": null,
      "outputs": [
        {
          "output_type": "stream",
          "name": "stdout",
          "text": [
            "Payments:\n",
            "Payment of node 1: -30\n",
            "Payment of node 2: -30\n",
            "Payment of node 3: -10\n",
            "Payment of node 4: -20\n"
          ]
        }
      ]
    },
    {
      "cell_type": "code",
      "source": [
        "def get_hidden_type(node):\n",
        "    return 200\n",
        "\n",
        "# Calcolare il risultato ottimale\n",
        "optimal_result, optimal_result_path = find_optimal_result(paths)\n",
        "# Stampare i pagamenti\n",
        "print(\"Payments:\")\n",
        "for node in graph_nodes:\n",
        "    print(f\"Payment of node {node}: {calculate_payment(optimal_result, optimal_result_path, node)}\")\n",
        "\n",
        "\n"
      ],
      "metadata": {
        "colab": {
          "base_uri": "https://localhost:8080/"
        },
        "id": "2fdNS32ZwydI",
        "outputId": "8f77b8cc-2ca1-4071-c84e-a83a9cbca7c0"
      },
      "execution_count": null,
      "outputs": [
        {
          "output_type": "stream",
          "name": "stdout",
          "text": [
            "Payments:\n",
            "Payment of node 1: -30\n",
            "Payment of node 2: -30\n",
            "Payment of node 3: -10\n",
            "Payment of node 4: -20\n"
          ]
        }
      ]
    }
  ]
}