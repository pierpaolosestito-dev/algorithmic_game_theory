{
  "nbformat": 4,
  "nbformat_minor": 0,
  "metadata": {
    "colab": {
      "provenance": []
    },
    "kernelspec": {
      "name": "python3",
      "display_name": "Python 3"
    },
    "language_info": {
      "name": "python"
    }
  },
  "cells": [
    {
      "cell_type": "code",
      "source": [
        "import pydotplus\n",
        "from IPython.display import Image, display\n",
        "start_end = ('s','t')\n",
        "graph = pydotplus.Dot(graph_type='graph')\n",
        "nodes = [start_end[0], start_end[1]] + [str(i) for i in range(1, 5)]\n",
        "for node in nodes:\n",
        "    graph.add_node(pydotplus.Node(node,fillcolor=\"red\"))\n",
        "edges = [(start_end[0], 1), (start_end[0], 2), (1, 3), (1, 4), (2, 4), (3, start_end[1]), (4, start_end[1])]\n",
        "for edge in edges:\n",
        "    graph.add_edge(pydotplus.Edge(str(edge[0]), str(edge[1])))\n",
        "display(Image(graph.create_png()))"
      ],
      "metadata": {
        "colab": {
          "base_uri": "https://localhost:8080/",
          "height": 364
        },
        "id": "K_Aha1gaI4Xe",
        "outputId": "06e56d39-95a6-407e-f114-bda7aba71ecc"
      },
      "execution_count": 1,
      "outputs": [
        {
          "output_type": "display_data",
          "data": {
            "image/png": "[encoded data removed]",
            "text/plain": [
              "<IPython.core.display.Image object>"
            ]
          },
          "metadata": {}
        }
      ]
    },
    {
      "cell_type": "markdown",
      "source": [
        "### Problem 1\n",
        "#### Problem definition\n",
        "Assume that forming a path connecting s and t leads to a reward of \\$100. Then, compute the\n",
        "Shapley value associated with the agents in $\\{1,2,...,n\\}$ as a fair way to distribute that reward among\n",
        "the agents in $\\{1,2,...,n\\}$, which in particular encourages cooperation.\n"
      ],
      "metadata": {
        "id": "HZxmETcGA2M6"
      }
    },
    {
      "cell_type": "code",
      "source": [
        "from math import factorial\n",
        "from itertools import combinations\n",
        "\n",
        "def powerset(list: list):\n",
        "    subsets = [frozenset(j) for i in range(len(list) + 1) for j in combinations(list, i)]\n",
        "    return subsets\n",
        "\n",
        "def __exists_path_via_nodes(graph: pydotplus.Dot, start_node: str, end_node: str):\n",
        "    visited = set()\n",
        "    queue = [start_node]\n",
        "\n",
        "    while queue:\n",
        "        current_node = queue.pop(0)\n",
        "        if current_node == end_node:\n",
        "            return True\n",
        "        if current_node not in visited:\n",
        "            visited.add(current_node)\n",
        "            for edge in graph.get_edge_list():\n",
        "                if edge.get_source() == current_node:\n",
        "                    queue.append(edge.get_destination())\n",
        "    return False\n",
        "\n",
        "def exists_path_between_s_and_t_after_delete(graph: pydotplus.Dot, nodes_to_delete: frozenset):\n",
        "    nodes = [start_end[0], start_end[1]] + [str(i) for i in range(1, 5)]\n",
        "    new_nodes = []\n",
        "    for node in nodes:\n",
        "      if node in list(nodes_to_delete):\n",
        "        new_nodes.append(node)\n",
        "    edges = [(start_end[0], 1), (start_end[0], 2), (1, 3), (1, 4), (2, 4), (3, start_end[1]), (4, start_end[1])]\n",
        "    new_edges = []\n",
        "    for edge in edges:\n",
        "      if edge[0] in list(nodes_to_delete) or edge[1] in list(nodes_to_delete):\n",
        "        new_edges.append(edge)\n",
        "    pruned = pydotplus.Dot(graph_type='graph')\n",
        "    for node in new_nodes:\n",
        "      pruned.add_node(pydotplus.Node(node))\n",
        "    for edge in new_edges:\n",
        "      pruned.add_edge(pydotplus.Edge(str(edge[0]), str(edge[1])))\n",
        "    #Uncomment this line below if you want to plot the pruned_graph\n",
        "    #display(Image(pruned_graph.create_png()))\n",
        "    return __exists_path_via_nodes(pruned,start_end[0],start_end[1])\n",
        "\n",
        "\n",
        "def exam_characteristic_function(graph: pydotplus.Dot, coalition: frozenset):\n",
        "    return 100 if exists_path_between_s_and_t_after_delete(graph, coalition) else 0"
      ],
      "metadata": {
        "id": "rPZC2s-aJJbK"
      },
      "execution_count": 2,
      "outputs": []
    },
    {
      "cell_type": "code",
      "source": [
        "g_nodes = nodes.copy()\n",
        "g_nodes.remove(start_end[0])\n",
        "g_nodes.remove(start_end[1])\n",
        "g_nodes = list(map(int,g_nodes))"
      ],
      "metadata": {
        "id": "WDdse--hJnGB"
      },
      "execution_count": 3,
      "outputs": []
    },
    {
      "cell_type": "code",
      "source": [
        "def get_characteristic_function(graph, graph_nodes: frozenset, coalition, check_path, characteristic_function):\n",
        "    if coalition in characteristic_function:\n",
        "        return\n",
        "    characteristic_function[coalition] = exam_characteristic_function(graph, coalition) if check_path else 100\n",
        "    check_path = False if characteristic_function[coalition] == 100 else True\n",
        "    graph_nodes_without_coalition = graph_nodes.difference(coalition)\n",
        "    supersets = [coalition.union([j]) for j in graph_nodes_without_coalition]\n",
        "    for c in supersets:\n",
        "        get_characteristic_function(graph, graph_nodes, c, check_path, characteristic_function)\n",
        "\n",
        "\n",
        "characteristic_function = {}\n",
        "get_characteristic_function(graph, frozenset(g_nodes), frozenset([]), True, characteristic_function)\n",
        "print(\"Characteristic function\")\n",
        "for key, value in characteristic_function.items():\n",
        "    print(f\"{list(key)}: {value}\")"
      ],
      "metadata": {
        "colab": {
          "base_uri": "https://localhost:8080/"
        },
        "id": "dt5LPdhxW9Xu",
        "outputId": "23a29f8b-a3ed-429c-b2c8-14f794152030"
      },
      "execution_count": 4,
      "outputs": [
        {
          "output_type": "stream",
          "name": "stdout",
          "text": [
            "Characteristic function\n",
            "[]: 0\n",
            "[1]: 0\n",
            "[1, 2]: 0\n",
            "[1, 2, 3]: 100\n",
            "[1, 2, 3, 4]: 100\n",
            "[1, 2, 4]: 100\n",
            "[1, 3]: 100\n",
            "[1, 3, 4]: 100\n",
            "[1, 4]: 100\n",
            "[2]: 0\n",
            "[2, 3]: 0\n",
            "[2, 3, 4]: 100\n",
            "[2, 4]: 100\n",
            "[3]: 0\n",
            "[3, 4]: 0\n",
            "[4]: 0\n"
          ]
        }
      ]
    },
    {
      "cell_type": "code",
      "source": [
        "def shapley_value(player, characteristic_function):\n",
        "    player_list = max(characteristic_function)\n",
        "    player = set([player])\n",
        "    N = len(player_list)\n",
        "    coalitions = powerset(player_list)\n",
        "    shapley_val = 0\n",
        "    for coalition in coalitions:\n",
        "        if len(coalition) != 0:\n",
        "            S = len(coalition)\n",
        "            marginal_contribution = characteristic_function[coalition] - (characteristic_function[coalition - player] if len(coalition - player) > 0 else 0)\n",
        "            shapley_val += ((factorial(N - S) * factorial(S - 1)) / factorial(N)) * marginal_contribution\n",
        "    return shapley_val\n",
        "\n",
        "def shapley(characteristic_function):\n",
        "    return {player: shapley_value(player, characteristic_function) for player in max(characteristic_function)}\n",
        "\n",
        "print(\"** Shapley values **\")\n",
        "shapley_values = shapley(characteristic_function).items()\n",
        "for key, value in shapley_values:\n",
        "    print(f\"Player {key} -> {value:.2f}\")"
      ],
      "metadata": {
        "colab": {
          "base_uri": "https://localhost:8080/"
        },
        "id": "B1k2LEzlXD6u",
        "outputId": "1016ad7c-5fc2-4059-e16d-c608a7fa5d19"
      },
      "execution_count": 5,
      "outputs": [
        {
          "output_type": "stream",
          "name": "stdout",
          "text": [
            "** Shapley values **\n",
            "Player 1 -> 33.33\n",
            "Player 2 -> 16.67\n",
            "Player 3 -> 16.67\n",
            "Player 4 -> 33.33\n"
          ]
        }
      ]
    },
    {
      "cell_type": "markdown",
      "source": [
        "### Problem 2\n",
        "#### Problem definition\n",
        "Assume that each agent in $\\{1,2…,n\\}$ might freely decide whether to provide her/his contribution to connect $s$ and $t$. Assume, in particular, that each agent is willing to contribute only if at most two of her/his neighbours do so. Then, check whether the resulting setting admits a pure Nash equilibrium and compute one, if any.\n"
      ],
      "metadata": {
        "id": "SKYwcD32bXbL"
      }
    },
    {
      "cell_type": "code",
      "source": [
        "def find_neighbors(graph,target_node_name):\n",
        "  target_node = None\n",
        "  for node in graph.get_nodes():\n",
        "      if str(node.get_name()) == target_node_name:\n",
        "          target_node = node\n",
        "          break\n",
        "  if target_node:\n",
        "      neighbors = []\n",
        "      for edge in graph.get_edges():\n",
        "          if edge.get_source() == target_node.get_name():\n",
        "            neighbors.append(edge.get_destination())\n",
        "          if edge.get_destination() == target_node.get_name():\n",
        "            neighbors.append(edge.get_source())\n",
        "      return neighbors"
      ],
      "metadata": {
        "id": "CtCw19TQbW2U"
      },
      "execution_count": 6,
      "outputs": []
    },
    {
      "cell_type": "code",
      "source": [
        "def check_nash_equilibrium(graph, players, action_profile: dict):\n",
        "    for player in players:\n",
        "        sum_ns = 0\n",
        "        for neighbor in find_neighbors(graph, str(player)):\n",
        "            if neighbor.isdigit():\n",
        "                if action_profile[int(neighbor)] == \"y\":\n",
        "                  sum_ns+=1\n",
        "            else:\n",
        "              if action_profile[neighbor] == \"y\":\n",
        "                sum_ns += 1\n",
        "        if action_profile[player] == 'y' and sum_ns > 2:\n",
        "          return False\n",
        "        if action_profile[player] == 'n' and sum_ns <= 2:\n",
        "          return False\n",
        "    return True\n",
        "\n",
        "def find_nash_equilibrium(graph, players: list, action_profile: dict, i=0):\n",
        "    for c in range(2):\n",
        "        c2 = \"\"\n",
        "        c2 = \"y\" if c == 1 else \"n\"\n",
        "        action_profile[players[i]] = c2\n",
        "        if i == len(players) - 1:\n",
        "            if check_nash_equilibrium(graph, players, action_profile):\n",
        "                return action_profile\n",
        "        elif find_nash_equilibrium(graph, players, action_profile, i + 1) is not None:\n",
        "            return action_profile\n",
        "    return None\n",
        "\n",
        "\n",
        "equilibrium = find_nash_equilibrium(graph, g_nodes, {start_end[0]: 'y', start_end[1]: 'y'})\n",
        "print(equilibrium)\n",
        "\n",
        "if equilibrium is not None:\n",
        "    print(\"N.E found:\")\n",
        "    for key, value in equilibrium.items():\n",
        "        if key not in start_end:\n",
        "          print(f\"Player {key} {'contributes' if value=='y' else 'does not contribute'}\")\n",
        "else:\n",
        "    print(\"N.E not found\")\n"
      ],
      "metadata": {
        "colab": {
          "base_uri": "https://localhost:8080/"
        },
        "id": "X_dLZKweyA2V",
        "outputId": "8198ef61-78ba-4ee6-f18c-4ff6bb67a620"
      },
      "execution_count": 7,
      "outputs": [
        {
          "output_type": "stream",
          "name": "stdout",
          "text": [
            "{'s': 'y', 't': 'y', 1: 'n', 2: 'y', 3: 'y', 4: 'y'}\n",
            "N.E found:\n",
            "Player 1 does not contribute\n",
            "Player 2 contributes\n",
            "Player 3 contributes\n",
            "Player 4 contributes\n"
          ]
        }
      ]
    },
    {
      "cell_type": "markdown",
      "source": [
        "### Problem 3\n",
        "#### Problem definition\n",
        "Assume that G has treewidth bounded by some constant and provide again answer to point 2, by exploiting this additional information.\n",
        "\n",
        "#### Solution\n",
        "With the newfound understanding that the graph possesses bounded treewidth, we can leverage Courcelle's theorem, which posits that any problem formulated within Monadic Second Order Logic (MSO) on graphs of bounded treewidth can be resolved in linear time.\n",
        "\n",
        "By capitalizing on this theorem, we can articulate the second point (\\ref{sec:nash} {Nash Equilibrium}) in Monadic Second Order Logic to establish the existence of an algorithm capable of resolving the problem within linear time complexity.\n",
        "\n",
        "**MSO Formulation for Nash Equilibrium Verification**\n",
        "\n",
        "**Step 1: Definition of Node Sets**\n",
        "\n",
        "Let $V$_0 and $V$_1  be two sets of nodes defined as follows:\n",
        "\n",
        "V0 = {v ∈ N | (deg(v) ≤ 2) ∧ (σ(v) = 0)}\n",
        "V1 = {v ∈ N | (deg(v) > 2) ∧ (σ(v) = 1)}\n",
        "\n",
        "\n",
        "\n",
        "**Step 2: Formulation of Conditions in MSO**\n",
        "\n",
        "We use second-order quantification to express the conditions in MSO. The MSO formula is as follows:\n",
        "\n",
        "**Condition 1: No agent changes action if the number of contributing neighbors is greater than 2**\n",
        "\n",
        "\n",
        "∀v ∈ A [ (v ∈ V0 ∧ ∀u ∈ N (v) (u /∈ V1))\n",
        "∨ (v ∈ V1 ∧ ∀u ∈ N (v) (u ∈ V1)) ]\n",
        "\n",
        "**Condition 2: All agents follow this condition**\n",
        "\n",
        "∀v ∈ A ∀u ∈ N (v) [ (u ∈\n",
        "V0 ∧ ∀w ∈ N (u) (w /∈ V1))\n",
        "∨ (u ∈ V1 ∧ ∀w ∈ N (u) (w ∈ V1)) ]\n",
        "\n",
        "\n",
        "These formulations express the necessary conditions for an action profile to be a Nash equilibrium in the graph using second-order quantification in monadic second-order logic (MSO), with a clear definition of node sets and the use of second-order quantification for the conditions.\n",
        "\n",
        "Here's a breakdown of how the formulas adhere to MSO principles:\n",
        "\n",
        "1. **Node Sets**\n",
        "    - The formulas define two sets of nodes, V0 and V1, using first-order logic over the set of nodes N.\n",
        "    - This aligns with MSO, which allows quantification over sets of elements in the domain.\n",
        "\n",
        "2. **Second-Order Quantification**\n",
        "    - The conditions for Nash equilibrium are expressed using second-order quantification over sets of nodes.\n",
        "    - This is a key feature of MSO, enabling statements about relationships between sets of elements.\n",
        "\n",
        "3. **Restriction to Monadic Quantification**\n",
        "    - The quantification is restricted to sets of nodes, not relations or functions.\n",
        "    - This adheres to the monadic nature of MSO, which only permits quantification over sets.\n",
        "\n",
        "4. **Expressing Graph Properties**\n",
        "    - The formulas capture properties of the graph, such as node degrees and relationships between neighboring nodes.\n",
        "    - MSO is well-suited for expressing graph properties due to its ability to quantify over sets of nodes and edges.\n",
        "\n",
        "5. **Capturing Nash Equilibrium Conditions**\n",
        "    - The formulas successfully express the necessary conditions for an action profile to be a Nash equilibrium in the graph.\n",
        "    - This demonstrates the expressive power of MSO in formulating strategic complexity.\n"
      ],
      "metadata": {
        "id": "JgMt5G8x6_V-"
      }
    },
    {
      "cell_type": "markdown",
      "source": [
        "### Problem 4\n",
        "#### Problem definition\n",
        "Assume that agent $i$ in $\\{1,2,...,n\\}$ has some internal utility – say $i * 10\\$$ – for being selected in a path\n",
        "connecting $s$ and $t$, and that s/he might cheat in declaring a different utility. Assume moreover that\n",
        "the goal is to form a path with the maximum overall possible utility, and compute a payment scheme\n",
        "that provides incentives to truthfully report such utility values.\n"
      ],
      "metadata": {
        "id": "veOY2TDKmIKL"
      }
    },
    {
      "cell_type": "code",
      "source": [
        "def find_all_simple_paths(graph, start, end, path=[]):\n",
        "    path = path + [start]\n",
        "    if start == end:\n",
        "        return [path]\n",
        "    # Check if the start node is in the graph\n",
        "    if start in graph.obj_dict['nodes']:\n",
        "        paths = []\n",
        "        for edge in graph.get_edge_list():\n",
        "            src, dest = edge.get_source(), edge.get_destination()\n",
        "            if src == start and dest not in path:\n",
        "                new_paths = find_all_simple_paths(graph, dest, end, path)\n",
        "                for new_path in new_paths:\n",
        "                    paths.append(new_path)\n",
        "        return paths\n",
        "    else:\n",
        "        return []\n",
        "\n",
        "paths = find_all_simple_paths(graph, start_end[0],start_end[1])\n",
        "print(paths)"
      ],
      "metadata": {
        "colab": {
          "base_uri": "https://localhost:8080/"
        },
        "id": "TZErnr6wm9Zm",
        "outputId": "0872caf0-89f1-4199-bbc6-34bf3283ea8c"
      },
      "execution_count": 8,
      "outputs": [
        {
          "output_type": "stream",
          "name": "stdout",
          "text": [
            "[['s', '1', '3', 't'], ['s', '1', '4', 't'], ['s', '2', '4', 't']]\n",
            "[['s', '1', '3', 't'], ['s', '1', '4', 't'], ['s', '2', '4', 't'], ['1', '2', '3', '4', 's', 't']]\n"
          ]
        }
      ]
    },
    {
      "cell_type": "code",
      "source": [
        "#\"additional_path\" it's simply the path that contains all the nodes in the graph. Obviously a sure path from 's' to 't' is the path which contains all the nodes.\n",
        "additional_path = [str(g) for g in g_nodes]\n",
        "additional_path.extend([start_end[0], start_end[1]])\n",
        "paths.append(additional_path)\n",
        "print(paths)"
      ],
      "metadata": {
        "id": "D6sUEiYVescR"
      },
      "execution_count": null,
      "outputs": []
    },
    {
      "cell_type": "code",
      "source": [
        "\n",
        "def utility(node,cost):\n",
        "    if cost==10:\n",
        "      return node * cost\n",
        "    return cost\n",
        "\n",
        "def find_best_result(paths,cost):\n",
        "    best_result = 0\n",
        "    best_path = []\n",
        "    for path in paths:\n",
        "        result = sum(utility(int(node),cost) for node in path if node not in start_end)\n",
        "        if result > best_result:\n",
        "            best_result = result\n",
        "            best_path = path\n",
        "    return best_result, best_path\n",
        "\n",
        "def find_best_result_excluding_player(paths, excluded_player,cost):\n",
        "    best_result = 0\n",
        "    for path in paths:\n",
        "        if str(excluded_player) not in path:\n",
        "            result = sum(utility(int(node),cost) for node in path if node not in start_end)\n",
        "            best_result = max(result, best_result)\n",
        "    return best_result\n",
        "\n",
        "def estimate_payment(best_result, best_path, player,cost):\n",
        "    result_player = best_result - utility(player,cost) if str(player) in best_path else best_result\n",
        "    result_excluding_player = find_best_result_excluding_player(paths, player,cost)\n",
        "    return result_excluding_player - result_player\n",
        "\n"
      ],
      "metadata": {
        "id": "vaxNGIpuv9Fd"
      },
      "execution_count": 9,
      "outputs": []
    },
    {
      "cell_type": "code",
      "source": [
        "prooves = (10,500)\n",
        "for p in prooves:\n",
        "  best_result, best_path = find_best_result(paths,p)\n",
        "  print(\"Payments:\")\n",
        "  for node in g_nodes:\n",
        "      print(f\"Payment of player {node}: {estimate_payment(best_result, best_path, node,p)}\")\n",
        "\n",
        "  print(\"*\"*len(\"Payment of player # :    \"))\n"
      ],
      "metadata": {
        "colab": {
          "base_uri": "https://localhost:8080/"
        },
        "id": "50IPEDP1UiE1",
        "outputId": "441000b5-5495-49cf-88c6-5e225b9fef2b"
      },
      "execution_count": 10,
      "outputs": [
        {
          "output_type": "stream",
          "name": "stdout",
          "text": [
            "Payments:\n",
            "Payment of player 1: -30\n",
            "Payment of player 2: -30\n",
            "Payment of player 3: -10\n",
            "Payment of player 4: -20\n",
            "*************************\n",
            "Payments:\n",
            "Payment of player 1: -500\n",
            "Payment of player 2: -500\n",
            "Payment of player 3: -500\n",
            "Payment of player 4: -500\n",
            "*************************\n"
          ]
        }
      ]
    }
  ]
}